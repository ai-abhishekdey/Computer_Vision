{
 "cells": [
  {
   "cell_type": "markdown",
   "id": "218ea8dd",
   "metadata": {},
   "source": [
    "## Binary Image Classification - Transfer Learning - v1.0 - Cat v/s Dog\n",
    "\n",
    "### Author : Abhishek Dey \"<ai.abhishekdey@gmail.com>\""
   ]
  },
  {
   "cell_type": "markdown",
   "id": "ea8b670c",
   "metadata": {},
   "source": [
    "### Import Libraries and Packages"
   ]
  },
  {
   "cell_type": "code",
   "execution_count": 1,
   "id": "d6eae7b7",
   "metadata": {},
   "outputs": [],
   "source": [
    "import os\n",
    "import shutil\n",
    "import pandas as pd\n",
    "import numpy as np\n",
    "import matplotlib.pyplot as plt\n",
    "import tensorflow\n",
    "from tensorflow.keras import backend as K\n",
    "from tensorflow.keras.models import Sequential, Model\n",
    "from tensorflow.keras.layers import Conv2D, MaxPooling2D, GlobalAveragePooling2D, Flatten, Dense,  Dropout, Activation\n",
    "from tensorflow.keras.preprocessing.image import ImageDataGenerator, load_img, img_to_array\n",
    "from tensorflow.keras.optimizers import Adam\n",
    "from tensorflow.keras.callbacks import EarlyStopping, ModelCheckpoint, CSVLogger\n",
    "from tensorflow.keras.models import load_model\n",
    "from tensorflow.keras import applications"
   ]
  },
  {
   "cell_type": "markdown",
   "id": "625abd9b",
   "metadata": {},
   "source": [
    "### Set GPU Flags"
   ]
  },
  {
   "cell_type": "code",
   "execution_count": 2,
   "id": "565cd404",
   "metadata": {},
   "outputs": [],
   "source": [
    "os.environ[\"CUDA_DEVICE_ORDER\"]=\"PCI_BUS_ID\"\n",
    "os.environ[\"CUDA_VISIBLE_DEVICES\"]=\"0\""
   ]
  },
  {
   "cell_type": "markdown",
   "id": "a0cbc96e",
   "metadata": {},
   "source": [
    "### Separate out dogs and cats in different folders"
   ]
  },
  {
   "cell_type": "code",
   "execution_count": 3,
   "id": "6b60930e",
   "metadata": {},
   "outputs": [],
   "source": [
    "train_val_data_dir=\"dogs-vs-cats/train/\"\n",
    "\n",
    "train_val_dogs=\"dogs-vs-cats/train_val_images/dogs\"\n",
    "train_val_cats=\"dogs-vs-cats/train_val_images/cats\"\n",
    "\n",
    "if not os.path.exists(train_val_dogs):\n",
    "    os.makedirs(train_val_dogs)\n",
    "    \n",
    "if not os.path.exists(train_val_cats):\n",
    "    os.makedirs(train_val_cats)\n",
    "    \n",
    "source=train_val_data_dir\n",
    "destination1=train_val_dogs\n",
    "destination2=train_val_cats\n",
    "\n",
    "for filename in os.listdir(source):\n",
    "    if filename.startswith(\"dog\"):\n",
    "        shutil.copy(os.path.join(source, filename), destination1)\n",
    "        \n",
    "for filename in os.listdir(source):\n",
    "    if filename.startswith(\"cat\"):\n",
    "        shutil.copy(os.path.join(source, filename), destination2)"
   ]
  },
  {
   "cell_type": "markdown",
   "id": "a9e7cc7c",
   "metadata": {},
   "source": [
    "### Get the counts of cats and dogs in train-val set"
   ]
  },
  {
   "cell_type": "code",
   "execution_count": 4,
   "id": "e5e61ba9",
   "metadata": {},
   "outputs": [
    {
     "name": "stdout",
     "output_type": "stream",
     "text": [
      "train-val dogs count: 12500\n",
      "train-val cats count: 12500\n"
     ]
    }
   ],
   "source": [
    "cat_count = 0\n",
    "dog_count = 0 \n",
    "\n",
    "\n",
    "for path in os.scandir(train_val_dogs):\n",
    "    if path.is_file():\n",
    "        dog_count += 1\n",
    "print('train-val dogs count:', dog_count)\n",
    "\n",
    "for path in os.scandir(train_val_cats):\n",
    "    if path.is_file():\n",
    "        cat_count += 1\n",
    "print('train-val cats count:', cat_count)"
   ]
  },
  {
   "cell_type": "markdown",
   "id": "9b8fc89a",
   "metadata": {},
   "source": [
    "### Set Hyperparameters"
   ]
  },
  {
   "cell_type": "code",
   "execution_count": 5,
   "id": "c04adbf9",
   "metadata": {},
   "outputs": [],
   "source": [
    "ep=10\n",
    "esp=3\n",
    "bs=8\n",
    "img_size=224\n",
    "lr=0.00001\n",
    "loss_fn='binary_crossentropy'"
   ]
  },
  {
   "cell_type": "markdown",
   "id": "a7bb7b90",
   "metadata": {},
   "source": [
    "### Transerfer Learning from VGG16 Base Model"
   ]
  },
  {
   "cell_type": "code",
   "execution_count": 17,
   "id": "880fc60b",
   "metadata": {},
   "outputs": [],
   "source": [
    "input_shape = (img_size, img_size, 3)\n",
    "\n",
    "#base_model = applications.resnet50.ResNet50(weights=\"imagenet\", include_top=False, input_shape= input_shape)\n",
    "base_model = applications.VGG16(weights=\"imagenet\", include_top=False, input_shape= input_shape)\n",
    "\n",
    "\n",
    "x = base_model.output\n",
    "x = GlobalAveragePooling2D()(x)\n",
    "x = Dropout(0.5)(x)\n",
    "\n",
    "predictions = Dense(1, activation= 'sigmoid')(x)\n",
    "\n",
    "model = Model(inputs = base_model.input, outputs = predictions)"
   ]
  },
  {
   "cell_type": "code",
   "execution_count": 18,
   "id": "83b2a9f3",
   "metadata": {},
   "outputs": [
    {
     "name": "stdout",
     "output_type": "stream",
     "text": [
      "Model: \"model_1\"\n",
      "_________________________________________________________________\n",
      "Layer (type)                 Output Shape              Param #   \n",
      "=================================================================\n",
      "input_2 (InputLayer)         [(None, 224, 224, 3)]     0         \n",
      "_________________________________________________________________\n",
      "block1_conv1 (Conv2D)        (None, 224, 224, 64)      1792      \n",
      "_________________________________________________________________\n",
      "block1_conv2 (Conv2D)        (None, 224, 224, 64)      36928     \n",
      "_________________________________________________________________\n",
      "block1_pool (MaxPooling2D)   (None, 112, 112, 64)      0         \n",
      "_________________________________________________________________\n",
      "block2_conv1 (Conv2D)        (None, 112, 112, 128)     73856     \n",
      "_________________________________________________________________\n",
      "block2_conv2 (Conv2D)        (None, 112, 112, 128)     147584    \n",
      "_________________________________________________________________\n",
      "block2_pool (MaxPooling2D)   (None, 56, 56, 128)       0         \n",
      "_________________________________________________________________\n",
      "block3_conv1 (Conv2D)        (None, 56, 56, 256)       295168    \n",
      "_________________________________________________________________\n",
      "block3_conv2 (Conv2D)        (None, 56, 56, 256)       590080    \n",
      "_________________________________________________________________\n",
      "block3_conv3 (Conv2D)        (None, 56, 56, 256)       590080    \n",
      "_________________________________________________________________\n",
      "block3_pool (MaxPooling2D)   (None, 28, 28, 256)       0         \n",
      "_________________________________________________________________\n",
      "block4_conv1 (Conv2D)        (None, 28, 28, 512)       1180160   \n",
      "_________________________________________________________________\n",
      "block4_conv2 (Conv2D)        (None, 28, 28, 512)       2359808   \n",
      "_________________________________________________________________\n",
      "block4_conv3 (Conv2D)        (None, 28, 28, 512)       2359808   \n",
      "_________________________________________________________________\n",
      "block4_pool (MaxPooling2D)   (None, 14, 14, 512)       0         \n",
      "_________________________________________________________________\n",
      "block5_conv1 (Conv2D)        (None, 14, 14, 512)       2359808   \n",
      "_________________________________________________________________\n",
      "block5_conv2 (Conv2D)        (None, 14, 14, 512)       2359808   \n",
      "_________________________________________________________________\n",
      "block5_conv3 (Conv2D)        (None, 14, 14, 512)       2359808   \n",
      "_________________________________________________________________\n",
      "block5_pool (MaxPooling2D)   (None, 7, 7, 512)         0         \n",
      "_________________________________________________________________\n",
      "global_average_pooling2d_1 ( (None, 512)               0         \n",
      "_________________________________________________________________\n",
      "dropout_1 (Dropout)          (None, 512)               0         \n",
      "_________________________________________________________________\n",
      "dense_1 (Dense)              (None, 1)                 513       \n",
      "=================================================================\n",
      "Total params: 14,715,201\n",
      "Trainable params: 14,715,201\n",
      "Non-trainable params: 0\n",
      "_________________________________________________________________\n"
     ]
    }
   ],
   "source": [
    "model.summary()"
   ]
  },
  {
   "cell_type": "markdown",
   "id": "cda597c6",
   "metadata": {},
   "source": [
    "### Data Generation and train-val split in the ratio of 80:20"
   ]
  },
  {
   "cell_type": "code",
   "execution_count": 19,
   "id": "252612f8",
   "metadata": {},
   "outputs": [
    {
     "name": "stdout",
     "output_type": "stream",
     "text": [
      "Found 20000 images belonging to 2 classes.\n",
      "Found 5000 images belonging to 2 classes.\n"
     ]
    }
   ],
   "source": [
    "data_path = \"dogs-vs-cats/train_val_images/\"\n",
    "\n",
    "data_gen = ImageDataGenerator(rescale=1./255,  validation_split=0.2)\n",
    "\n",
    "train_data = data_gen.flow_from_directory(directory=data_path,target_size=(img_size,img_size), batch_size=bs, subset='training', seed=42, color_mode='rgb', class_mode='binary') \n",
    "\n",
    "val_data = data_gen.flow_from_directory(directory=data_path,target_size=(img_size,img_size), batch_size=bs, subset='validation', seed=42, color_mode='rgb', class_mode='binary') "
   ]
  },
  {
   "cell_type": "markdown",
   "id": "40020174",
   "metadata": {},
   "source": [
    "### Model Compile"
   ]
  },
  {
   "cell_type": "code",
   "execution_count": 20,
   "id": "0a078ff2",
   "metadata": {},
   "outputs": [],
   "source": [
    "opt = Adam(learning_rate=lr)\n",
    "\n",
    "model.compile(loss=loss_fn,optimizer=opt,metrics=['accuracy'])"
   ]
  },
  {
   "cell_type": "markdown",
   "id": "87b216ec",
   "metadata": {},
   "source": [
    "### Checkpoint directory"
   ]
  },
  {
   "cell_type": "code",
   "execution_count": 21,
   "id": "55e24ee6",
   "metadata": {},
   "outputs": [],
   "source": [
    "checkpoint_dir=\"VGG16_transfer_learning_model/\"\n",
    "model_version=\"1.0\"\n",
    "\n",
    "if not os.path.exists(checkpoint_dir):\n",
    "    os.makedirs(checkpoint_dir)"
   ]
  },
  {
   "cell_type": "markdown",
   "id": "a4687d54",
   "metadata": {},
   "source": [
    "### Call backs"
   ]
  },
  {
   "cell_type": "code",
   "execution_count": 22,
   "id": "b4b1af22",
   "metadata": {},
   "outputs": [],
   "source": [
    "checkpoint = ModelCheckpoint(os.path.join(checkpoint_dir,'vgg16_tl_binary_model_v' + str(model_version) + '.h5'), \n",
    "                             monitor='val_loss', \n",
    "                             verbose=1, \n",
    "                             save_best_only=True, \n",
    "                             mode='min')\n",
    "csv_logger = CSVLogger(checkpoint_dir + '/' + 'log_model_v' + str(model_version) + '.csv')\n",
    "\n",
    "early_stop = EarlyStopping(\n",
    "        monitor='val_loss',\n",
    "        min_delta=0,\n",
    "        patience=esp,\n",
    "        verbose=1,\n",
    "        mode='auto')"
   ]
  },
  {
   "cell_type": "markdown",
   "id": "4de75434",
   "metadata": {},
   "source": [
    "### Model Fit"
   ]
  },
  {
   "cell_type": "code",
   "execution_count": 23,
   "id": "7fcbe014",
   "metadata": {},
   "outputs": [
    {
     "name": "stdout",
     "output_type": "stream",
     "text": [
      "Epoch 1/10\n",
      "2500/2500 [==============================] - 934s 371ms/step - loss: 0.1449 - accuracy: 0.9361 - val_loss: 0.0632 - val_accuracy: 0.9760\n",
      "\n",
      "Epoch 00001: val_loss improved from inf to 0.06323, saving model to VGG16_transfer_learning_model/vgg16_tl_binary_model_v1.0.h5\n",
      "Epoch 2/10\n",
      "2500/2500 [==============================] - 929s 372ms/step - loss: 0.0580 - accuracy: 0.9773 - val_loss: 0.0655 - val_accuracy: 0.9726\n",
      "\n",
      "Epoch 00002: val_loss did not improve from 0.06323\n",
      "Epoch 3/10\n",
      "2500/2500 [==============================] - 916s 367ms/step - loss: 0.0379 - accuracy: 0.9855 - val_loss: 0.0535 - val_accuracy: 0.9816\n",
      "\n",
      "Epoch 00003: val_loss improved from 0.06323 to 0.05348, saving model to VGG16_transfer_learning_model/vgg16_tl_binary_model_v1.0.h5\n",
      "Epoch 4/10\n",
      "2500/2500 [==============================] - 924s 370ms/step - loss: 0.0248 - accuracy: 0.9911 - val_loss: 0.0876 - val_accuracy: 0.9712\n",
      "\n",
      "Epoch 00004: val_loss did not improve from 0.05348\n",
      "Epoch 5/10\n",
      "2500/2500 [==============================] - 933s 373ms/step - loss: 0.0197 - accuracy: 0.9929 - val_loss: 0.0614 - val_accuracy: 0.9818\n",
      "\n",
      "Epoch 00005: val_loss did not improve from 0.05348\n",
      "Epoch 6/10\n",
      "2500/2500 [==============================] - 934s 374ms/step - loss: 0.0158 - accuracy: 0.9942 - val_loss: 0.0579 - val_accuracy: 0.9832\n",
      "\n",
      "Epoch 00006: val_loss did not improve from 0.05348\n",
      "Epoch 00006: early stopping\n"
     ]
    }
   ],
   "source": [
    "steps_train=train_data.n/ bs\n",
    "\n",
    "steps_val = val_data.n / bs\n",
    "\n",
    "\n",
    "\n",
    "history = model.fit(train_data, epochs=ep, steps_per_epoch=steps_train, validation_data=val_data, validation_steps=steps_val, callbacks= [checkpoint, csv_logger, early_stop])"
   ]
  },
  {
   "cell_type": "markdown",
   "id": "53806bcf",
   "metadata": {},
   "source": [
    "### Loss Plots"
   ]
  },
  {
   "cell_type": "code",
   "execution_count": 24,
   "id": "9efe4968",
   "metadata": {},
   "outputs": [
    {
     "data": {
      "text/plain": [
       "<matplotlib.legend.Legend at 0x7f0d0c12b978>"
      ]
     },
     "execution_count": 24,
     "metadata": {},
     "output_type": "execute_result"
    },
    {
     "data": {
      "image/png": "[encoded data removed]",
      "text/plain": [
       "<Figure size 432x288 with 1 Axes>"
      ]
     },
     "metadata": {
      "needs_background": "light"
     },
     "output_type": "display_data"
    }
   ],
   "source": [
    "df_plot=pd.read_csv(os.path.join(checkpoint_dir, 'log_model_v' + str(model_version) + '.csv'))\n",
    "training_loss=df_plot['loss']\n",
    "validation_loss=df_plot['val_loss']\n",
    "training_acc=df_plot['accuracy']\n",
    "validation_acc=df_plot['val_accuracy']\n",
    "\n",
    "plt.plot(training_loss,color='r')\n",
    "plt.plot(validation_loss,color='g')\n",
    "plt.legend([\"training loss\", \"validation loss\"], loc =\"upper right\")"
   ]
  },
  {
   "cell_type": "markdown",
   "id": "515e3650",
   "metadata": {},
   "source": [
    "## Accuracy Plots"
   ]
  },
  {
   "cell_type": "code",
   "execution_count": 25,
   "id": "69e32526",
   "metadata": {},
   "outputs": [
    {
     "data": {
      "text/plain": [
       "<matplotlib.legend.Legend at 0x7f0cbc0827b8>"
      ]
     },
     "execution_count": 25,
     "metadata": {},
     "output_type": "execute_result"
    },
    {
     "data": {
      "image/png": "[encoded data removed]",
      "text/plain": [
       "<Figure size 432x288 with 1 Axes>"
      ]
     },
     "metadata": {
      "needs_background": "light"
     },
     "output_type": "display_data"
    }
   ],
   "source": [
    "plt.plot(training_acc,color='r')\n",
    "plt.plot(validation_acc,color='g')\n",
    "plt.legend([\"training acc\", \"validation acc\"], loc =\"lower right\")"
   ]
  },
  {
   "cell_type": "markdown",
   "id": "3c645bc2",
   "metadata": {},
   "source": [
    "### Evaluation on Validation set"
   ]
  },
  {
   "cell_type": "code",
   "execution_count": 26,
   "id": "a455c382",
   "metadata": {},
   "outputs": [
    {
     "name": "stdout",
     "output_type": "stream",
     "text": [
      "625/625 [==============================] - 61s 97ms/step - loss: 0.0535 - accuracy: 0.9816\n"
     ]
    }
   ],
   "source": [
    "model_path = os.path.join(checkpoint_dir, 'vgg16_tl_binary_model_v' + str(model_version) + '.h5')\n",
    "model = load_model(model_path)\n",
    "_,val_accuracy = model.evaluate(val_data, steps=steps_val)"
   ]
  },
  {
   "cell_type": "markdown",
   "id": "3db5096d",
   "metadata": {},
   "source": [
    "### Prediction on Test set and strore the prediction results in csv file"
   ]
  },
  {
   "cell_type": "code",
   "execution_count": 27,
   "id": "de8bf7f4",
   "metadata": {},
   "outputs": [],
   "source": [
    "test_set_dir=\"dogs-vs-cats/test1/\"\n",
    "out_csv = os.path.join(checkpoint_dir,\"test_set_pred_\" + str(model_version) + \".csv\")\n",
    "\n",
    "f=open(out_csv,'w')\n",
    "f.write(\"filepath,prediction_label,prediction_class\"+\"\\n\")\n",
    "\n",
    "\n",
    "for img in sorted(os.listdir(test_set_dir)):\n",
    "    \n",
    "    img_name = os.path.join(test_set_dir, img)\n",
    "    \n",
    "    img = load_img(img_name, target_size=(img_size, img_size))\n",
    "    \n",
    "    img = img_to_array(img)\n",
    "    \n",
    "    img = np.expand_dims(img, axis=0)\n",
    "    \n",
    "    pred = model.predict(img)\n",
    "    \n",
    "    if pred[0][0] > 0.5:\n",
    "        \n",
    "        result=1\n",
    "        pred_class='dog'\n",
    "        \n",
    "    else:\n",
    "        \n",
    "        result=0\n",
    "        pred_class='cat'\n",
    "    \n",
    "    #print(img_name,result,pred_class)\n",
    "    f.write(str(img_name) + \",\" + str(result) + \",\" + str(pred_class) + \"\\n\")\n",
    "\n",
    "f.close()"
   ]
  },
  {
   "cell_type": "markdown",
   "id": "2282e0a0",
   "metadata": {},
   "source": [
    "### Convert Keras model to ONNX"
   ]
  },
  {
   "cell_type": "code",
   "execution_count": 28,
   "id": "1187add6",
   "metadata": {},
   "outputs": [
    {
     "name": "stdout",
     "output_type": "stream",
     "text": [
      "Defaulting to user installation because normal site-packages is not writeable\n",
      "Requirement already satisfied: tf2onnx in /home/abhishek/.local/lib/python3.6/site-packages (1.13.0)\n",
      "Requirement already satisfied: onnx>=1.4.1 in /home/abhishek/.local/lib/python3.6/site-packages (from tf2onnx) (1.11.0)\n",
      "Requirement already satisfied: six in /home/abhishek/.local/lib/python3.6/site-packages (from tf2onnx) (1.15.0)\n",
      "Requirement already satisfied: flatbuffers<3.0,>=1.12 in /home/abhishek/.local/lib/python3.6/site-packages (from tf2onnx) (1.12)\n",
      "Requirement already satisfied: numpy>=1.14.1 in /usr/local/lib/python3.6/dist-packages (from tf2onnx) (1.19.5)\n",
      "Requirement already satisfied: requests in /home/abhishek/.local/lib/python3.6/site-packages (from tf2onnx) (2.26.0)\n",
      "Requirement already satisfied: protobuf>=3.12.2 in /home/abhishek/.local/lib/python3.6/site-packages (from onnx>=1.4.1->tf2onnx) (3.17.3)\n",
      "Requirement already satisfied: typing-extensions>=3.6.2.1 in /home/abhishek/.local/lib/python3.6/site-packages (from onnx>=1.4.1->tf2onnx) (3.7.4.3)\n",
      "Requirement already satisfied: certifi>=2017.4.17 in /usr/lib/python3/dist-packages (from requests->tf2onnx) (2018.1.18)\n",
      "Requirement already satisfied: urllib3<1.27,>=1.21.1 in /home/abhishek/.local/lib/python3.6/site-packages (from requests->tf2onnx) (1.26.6)\n",
      "Requirement already satisfied: idna<4,>=2.5 in /usr/lib/python3/dist-packages (from requests->tf2onnx) (2.6)\n",
      "Requirement already satisfied: charset-normalizer~=2.0.0 in /home/abhishek/.local/lib/python3.6/site-packages (from requests->tf2onnx) (2.0.4)\n",
      "\u001b[33mWARNING: You are using pip version 21.2.3; however, version 21.3.1 is available.\n",
      "You should consider upgrading via the '/usr/bin/python3 -m pip install --upgrade pip' command.\u001b[0m\n"
     ]
    }
   ],
   "source": [
    "!pip install tf2onnx"
   ]
  },
  {
   "cell_type": "code",
   "execution_count": 29,
   "id": "5c24fc9b",
   "metadata": {},
   "outputs": [],
   "source": [
    "import tensorflow as tf\n",
    "import tf2onnx\n",
    "import onnx"
   ]
  },
  {
   "cell_type": "code",
   "execution_count": 30,
   "id": "832a990b",
   "metadata": {},
   "outputs": [],
   "source": [
    "keras_model_path=os.path.join(checkpoint_dir,'vgg16_tl_binary_model_v' + str(model_version) + '.h5')"
   ]
  },
  {
   "cell_type": "code",
   "execution_count": 31,
   "id": "6e7cfb4f",
   "metadata": {},
   "outputs": [
    {
     "data": {
      "text/plain": [
       "'VGG16_transfer_learning_model/vgg16_tl_binary_model_v1.0.h5'"
      ]
     },
     "execution_count": 31,
     "metadata": {},
     "output_type": "execute_result"
    }
   ],
   "source": [
    "keras_model_path"
   ]
  },
  {
   "cell_type": "code",
   "execution_count": 32,
   "id": "9d12f863",
   "metadata": {},
   "outputs": [],
   "source": [
    "onnx_model_path=os.path.join(checkpoint_dir,'vgg16_tl_binary_model_v' + str(model_version) + '.onnx')"
   ]
  },
  {
   "cell_type": "code",
   "execution_count": 33,
   "id": "6181adcc",
   "metadata": {},
   "outputs": [
    {
     "data": {
      "text/plain": [
       "'VGG16_transfer_learning_model/vgg16_tl_binary_model_v1.0.onnx'"
      ]
     },
     "execution_count": 33,
     "metadata": {},
     "output_type": "execute_result"
    }
   ],
   "source": [
    "onnx_model_path"
   ]
  },
  {
   "cell_type": "code",
   "execution_count": 34,
   "id": "45452dfe",
   "metadata": {},
   "outputs": [
    {
     "name": "stdout",
     "output_type": "stream",
     "text": [
      "Model: \"model_1\"\n",
      "_________________________________________________________________\n",
      "Layer (type)                 Output Shape              Param #   \n",
      "=================================================================\n",
      "input_2 (InputLayer)         [(None, 224, 224, 3)]     0         \n",
      "_________________________________________________________________\n",
      "block1_conv1 (Conv2D)        (None, 224, 224, 64)      1792      \n",
      "_________________________________________________________________\n",
      "block1_conv2 (Conv2D)        (None, 224, 224, 64)      36928     \n",
      "_________________________________________________________________\n",
      "block1_pool (MaxPooling2D)   (None, 112, 112, 64)      0         \n",
      "_________________________________________________________________\n",
      "block2_conv1 (Conv2D)        (None, 112, 112, 128)     73856     \n",
      "_________________________________________________________________\n",
      "block2_conv2 (Conv2D)        (None, 112, 112, 128)     147584    \n",
      "_________________________________________________________________\n",
      "block2_pool (MaxPooling2D)   (None, 56, 56, 128)       0         \n",
      "_________________________________________________________________\n",
      "block3_conv1 (Conv2D)        (None, 56, 56, 256)       295168    \n",
      "_________________________________________________________________\n",
      "block3_conv2 (Conv2D)        (None, 56, 56, 256)       590080    \n",
      "_________________________________________________________________\n",
      "block3_conv3 (Conv2D)        (None, 56, 56, 256)       590080    \n",
      "_________________________________________________________________\n",
      "block3_pool (MaxPooling2D)   (None, 28, 28, 256)       0         \n",
      "_________________________________________________________________\n",
      "block4_conv1 (Conv2D)        (None, 28, 28, 512)       1180160   \n",
      "_________________________________________________________________\n",
      "block4_conv2 (Conv2D)        (None, 28, 28, 512)       2359808   \n",
      "_________________________________________________________________\n",
      "block4_conv3 (Conv2D)        (None, 28, 28, 512)       2359808   \n",
      "_________________________________________________________________\n",
      "block4_pool (MaxPooling2D)   (None, 14, 14, 512)       0         \n",
      "_________________________________________________________________\n",
      "block5_conv1 (Conv2D)        (None, 14, 14, 512)       2359808   \n",
      "_________________________________________________________________\n",
      "block5_conv2 (Conv2D)        (None, 14, 14, 512)       2359808   \n",
      "_________________________________________________________________\n",
      "block5_conv3 (Conv2D)        (None, 14, 14, 512)       2359808   \n",
      "_________________________________________________________________\n",
      "block5_pool (MaxPooling2D)   (None, 7, 7, 512)         0         \n",
      "_________________________________________________________________\n",
      "global_average_pooling2d_1 ( (None, 512)               0         \n",
      "_________________________________________________________________\n",
      "dropout_1 (Dropout)          (None, 512)               0         \n",
      "_________________________________________________________________\n",
      "dense_1 (Dense)              (None, 1)                 513       \n",
      "=================================================================\n",
      "Total params: 14,715,201\n",
      "Trainable params: 14,715,201\n",
      "Non-trainable params: 0\n",
      "_________________________________________________________________\n"
     ]
    }
   ],
   "source": [
    "keras_model = load_model(keras_model_path)\n",
    "keras_model.summary()"
   ]
  },
  {
   "cell_type": "code",
   "execution_count": 35,
   "id": "ae2fd0e4",
   "metadata": {},
   "outputs": [],
   "source": [
    "spec = (tf.TensorSpec((None, 224, 224, 3), tf.float32, name=\"input\"),)\n",
    "\n",
    "onnx_model, _ = tf2onnx.convert.from_keras(keras_model, input_signature=spec, opset=13, output_path=onnx_model_path)\n",
    "\n",
    "onnx.save(onnx_model, onnx_model_path)"
   ]
  },
  {
   "cell_type": "markdown",
   "id": "89cf5249",
   "metadata": {},
   "source": [
    "### Inference using Onnx model on test set"
   ]
  },
  {
   "cell_type": "code",
   "execution_count": 36,
   "id": "78ad0047",
   "metadata": {},
   "outputs": [
    {
     "name": "stdout",
     "output_type": "stream",
     "text": [
      "Defaulting to user installation because normal site-packages is not writeable\n",
      "Requirement already satisfied: onnxruntime-gpu in /home/abhishek/.local/lib/python3.6/site-packages (1.10.0)\n",
      "Requirement already satisfied: protobuf in /home/abhishek/.local/lib/python3.6/site-packages (from onnxruntime-gpu) (3.17.3)\n",
      "Requirement already satisfied: numpy>=1.16.6 in /usr/local/lib/python3.6/dist-packages (from onnxruntime-gpu) (1.19.5)\n",
      "Requirement already satisfied: flatbuffers in /home/abhishek/.local/lib/python3.6/site-packages (from onnxruntime-gpu) (1.12)\n",
      "Requirement already satisfied: six>=1.9 in /home/abhishek/.local/lib/python3.6/site-packages (from protobuf->onnxruntime-gpu) (1.15.0)\n",
      "\u001b[33mWARNING: You are using pip version 21.2.3; however, version 21.3.1 is available.\n",
      "You should consider upgrading via the '/usr/bin/python3 -m pip install --upgrade pip' command.\u001b[0m\n"
     ]
    }
   ],
   "source": [
    "! pip install onnxruntime-gpu"
   ]
  },
  {
   "cell_type": "code",
   "execution_count": 37,
   "id": "5057613a",
   "metadata": {},
   "outputs": [
    {
     "name": "stdout",
     "output_type": "stream",
     "text": [
      "input_name :  input\n",
      "output_name :  input\n"
     ]
    }
   ],
   "source": [
    "import onnxruntime as ort\n",
    "\n",
    "sess = ort.InferenceSession(onnx_model_path, providers=[\"CUDAExecutionProvider\"])\n",
    "\n",
    "input_name = sess.get_inputs()[0].name\n",
    "output_name = sess.get_outputs()[0].name\n",
    "\n",
    "print(\"input_name : \",input_name)\n",
    "print(\"output_name : \",input_name)"
   ]
  },
  {
   "cell_type": "code",
   "execution_count": null,
   "id": "3959f1be",
   "metadata": {},
   "outputs": [],
   "source": [
    "test_set_dir=\"dogs-vs-cats/test1/\"\n",
    "out_csv = os.path.join(checkpoint_dir,\"test_set_pred_onnx\" + str(model_version) + \".csv\")\n",
    "\n",
    "f=open(out_csv,'w')\n",
    "f.write(\"filepath,prediction_label,prediction_class\"+\"\\n\")\n",
    "\n",
    "for img in sorted(os.listdir(test_set_dir)):\n",
    "    \n",
    "    img_name = os.path.join(test_set_dir, img)\n",
    "    \n",
    "    img = load_img(img_name, target_size=(img_size, img_size))\n",
    "    \n",
    "    img = img_to_array(img)\n",
    "    \n",
    "    img = np.expand_dims(img, axis=0)\n",
    "    \n",
    "    \n",
    "    onnx_pred = sess.run([output_name], {input_name: img})\n",
    "    \n",
    "    if onnx_pred[0][0] > 0.5:\n",
    "        \n",
    "        result=1\n",
    "        pred_class='dog'\n",
    "        \n",
    "    else:\n",
    "        \n",
    "        result=0\n",
    "        pred_class='cat'\n",
    "    \n",
    "    #print(img_name,result,pred_class)\n",
    "    f.write(str(img_name) + \",\" + str(result) + \",\" + str(pred_class) + \"\\n\")\n",
    "\n",
    "f.close()"
   ]
  },
  {
   "cell_type": "markdown",
   "id": "23787330",
   "metadata": {},
   "source": [
    "### References:\n",
    "\n",
    "* https://onnxruntime.ai/docs/tutorials/tf-get-started.html\n",
    "\n",
    "* https://github.com/onnx/tensorflow-onnx/blob/82812543c22e1318ca1ffa4e5431830c17d16d29/tutorials/keras-resnet50.ipynb\n",
    "\n",
    "* https://www.youtube.com/watch?v=lRBsmnBE9ZA\n",
    "\n",
    "* https://github.com/onnx/tensorflow-onnx/blob/main/tutorials/efficientnet-edge.ipynb"
   ]
  },
  {
   "cell_type": "code",
   "execution_count": null,
   "id": "fec336ab",
   "metadata": {},
   "outputs": [],
   "source": []
  }
 ],
 "metadata": {
  "kernelspec": {
   "display_name": "Python 3",
   "language": "python",
   "name": "python3"
  },
  "language_info": {
   "codemirror_mode": {
    "name": "ipython",
    "version": 3
   },
   "file_extension": ".py",
   "mimetype": "text/x-python",
   "name": "python",
   "nbconvert_exporter": "python",
   "pygments_lexer": "ipython3",
   "version": "3.6.9"
  }
 },
 "nbformat": 4,
 "nbformat_minor": 5
}
