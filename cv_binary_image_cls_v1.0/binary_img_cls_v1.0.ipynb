{
 "cells": [
  {
   "cell_type": "markdown",
   "id": "218ea8dd",
   "metadata": {},
   "source": [
    "## Binary Image Classification v1.0 - Cat v/s Dog\n",
    "\n",
    "### Author : Abhishek Dey \"<ai.abhishekdey@gmail.com>\""
   ]
  },
  {
   "cell_type": "markdown",
   "id": "ea8b670c",
   "metadata": {},
   "source": [
    "### Import Libraries and Packages"
   ]
  },
  {
   "cell_type": "code",
   "execution_count": 1,
   "id": "d6eae7b7",
   "metadata": {},
   "outputs": [],
   "source": [
    "import os\n",
    "import shutil\n",
    "import pandas as pd\n",
    "import numpy as np\n",
    "import matplotlib.pyplot as plt\n",
    "import tensorflow\n",
    "from tensorflow.keras import backend as K\n",
    "from tensorflow.keras.models import Sequential\n",
    "from tensorflow.keras.layers import Conv2D, MaxPooling2D, Flatten, Dense,  Dropout, Activation\n",
    "from tensorflow.keras.preprocessing.image import ImageDataGenerator, load_img, img_to_array\n",
    "from tensorflow.keras.optimizers import Adam\n",
    "from tensorflow.keras.callbacks import EarlyStopping, ModelCheckpoint, CSVLogger\n",
    "from tensorflow.keras.models import load_model"
   ]
  },
  {
   "cell_type": "markdown",
   "id": "625abd9b",
   "metadata": {},
   "source": [
    "### Set GPU Flags"
   ]
  },
  {
   "cell_type": "code",
   "execution_count": 2,
   "id": "565cd404",
   "metadata": {},
   "outputs": [],
   "source": [
    "os.environ[\"CUDA_DEVICE_ORDER\"]=\"PCI_BUS_ID\"\n",
    "os.environ[\"CUDA_VISIBLE_DEVICES\"]=\"0\""
   ]
  },
  {
   "cell_type": "markdown",
   "id": "a0cbc96e",
   "metadata": {},
   "source": [
    "### Separate out dogs and cats in different folders"
   ]
  },
  {
   "cell_type": "code",
   "execution_count": 4,
   "id": "6b60930e",
   "metadata": {},
   "outputs": [],
   "source": [
    "train_val_data_dir=\"dogs-vs-cats/train/\"\n",
    "\n",
    "train_val_dogs=\"dogs-vs-cats/train_val_images/dogs\"\n",
    "train_val_cats=\"dogs-vs-cats/train_val_images/cats\"\n",
    "\n",
    "if not os.path.exists(train_val_dogs):\n",
    "    os.makedirs(train_val_dogs)\n",
    "    \n",
    "if not os.path.exists(train_val_cats):\n",
    "    os.makedirs(train_val_cats)\n",
    "    \n",
    "source=train_val_data_dir\n",
    "destination1=train_val_dogs\n",
    "destination2=train_val_cats\n",
    "\n",
    "for filename in os.listdir(source):\n",
    "    if filename.startswith(\"dog\"):\n",
    "        shutil.copy(os.path.join(source, filename), destination1)\n",
    "        \n",
    "for filename in os.listdir(source):\n",
    "    if filename.startswith(\"cat\"):\n",
    "        shutil.copy(os.path.join(source, filename), destination2)"
   ]
  },
  {
   "cell_type": "markdown",
   "id": "a9e7cc7c",
   "metadata": {},
   "source": [
    "### Get the counts of cats and dogs in train-val set"
   ]
  },
  {
   "cell_type": "code",
   "execution_count": 5,
   "id": "e5e61ba9",
   "metadata": {},
   "outputs": [
    {
     "name": "stdout",
     "output_type": "stream",
     "text": [
      "train-val dogs count: 12500\n",
      "train-val cats count: 12500\n"
     ]
    }
   ],
   "source": [
    "cat_count = 0\n",
    "dog_count = 0 \n",
    "\n",
    "\n",
    "for path in os.scandir(train_val_dogs):\n",
    "    if path.is_file():\n",
    "        dog_count += 1\n",
    "print('train-val dogs count:', dog_count)\n",
    "\n",
    "for path in os.scandir(train_val_cats):\n",
    "    if path.is_file():\n",
    "        cat_count += 1\n",
    "print('train-val cats count:', cat_count)"
   ]
  },
  {
   "cell_type": "markdown",
   "id": "9b8fc89a",
   "metadata": {},
   "source": [
    "### Set Hyperparameters"
   ]
  },
  {
   "cell_type": "code",
   "execution_count": 6,
   "id": "c04adbf9",
   "metadata": {},
   "outputs": [],
   "source": [
    "ep=50\n",
    "bs=8\n",
    "img_size=64\n",
    "lr=0.00001\n",
    "loss_fn='binary_crossentropy'"
   ]
  },
  {
   "cell_type": "markdown",
   "id": "a7bb7b90",
   "metadata": {},
   "source": [
    "### Custom CNN Model"
   ]
  },
  {
   "cell_type": "code",
   "execution_count": 7,
   "id": "1ed76e37",
   "metadata": {},
   "outputs": [],
   "source": [
    "input_shape = (img_size, img_size, 3)\n",
    "\n",
    "model = Sequential()\n",
    "\n",
    "model.add(Conv2D(64, (3, 3), padding='same', input_shape=input_shape, activation='relu'))\n",
    "model.add(Conv2D(64, (3, 3), padding='same', activation='relu'))\n",
    "model.add(MaxPooling2D(pool_size=(2, 2)))\n",
    "\n",
    "model.add(Conv2D(128, (3, 3), padding='same', activation='relu'))\n",
    "model.add(Conv2D(128, (3, 3), padding='same', activation='relu'))\n",
    "model.add(MaxPooling2D(pool_size=(2, 2)))\n",
    "\n",
    "model.add(Conv2D(256, (3, 3), padding='same', activation='relu'))\n",
    "model.add(Conv2D(256, (3, 3), padding='same', activation='relu'))\n",
    "model.add(MaxPooling2D(pool_size=(2, 2)))\n",
    "\n",
    "model.add(Conv2D(512, (3, 3), padding='same', activation='relu'))\n",
    "model.add(Conv2D(512, (3, 3), padding='same', activation='relu'))\n",
    "model.add(MaxPooling2D(pool_size=(2, 2)))\n",
    "\n",
    "\n",
    "model.add(Flatten())\n",
    "model.add(Dense(512, activation='relu'))\n",
    "model.add(Dropout(0.5))\n",
    "\n",
    "model.add(Dense(512, activation='relu'))\n",
    "model.add(Dropout(0.5))\n",
    "\n",
    "model.add(Dense(1))\n",
    "model.add(Activation('sigmoid'))"
   ]
  },
  {
   "cell_type": "code",
   "execution_count": 8,
   "id": "83b2a9f3",
   "metadata": {},
   "outputs": [
    {
     "name": "stdout",
     "output_type": "stream",
     "text": [
      "Model: \"sequential\"\n",
      "_________________________________________________________________\n",
      "Layer (type)                 Output Shape              Param #   \n",
      "=================================================================\n",
      "conv2d (Conv2D)              (None, 64, 64, 64)        1792      \n",
      "_________________________________________________________________\n",
      "conv2d_1 (Conv2D)            (None, 64, 64, 64)        36928     \n",
      "_________________________________________________________________\n",
      "max_pooling2d (MaxPooling2D) (None, 32, 32, 64)        0         \n",
      "_________________________________________________________________\n",
      "conv2d_2 (Conv2D)            (None, 32, 32, 128)       73856     \n",
      "_________________________________________________________________\n",
      "conv2d_3 (Conv2D)            (None, 32, 32, 128)       147584    \n",
      "_________________________________________________________________\n",
      "max_pooling2d_1 (MaxPooling2 (None, 16, 16, 128)       0         \n",
      "_________________________________________________________________\n",
      "conv2d_4 (Conv2D)            (None, 16, 16, 256)       295168    \n",
      "_________________________________________________________________\n",
      "conv2d_5 (Conv2D)            (None, 16, 16, 256)       590080    \n",
      "_________________________________________________________________\n",
      "max_pooling2d_2 (MaxPooling2 (None, 8, 8, 256)         0         \n",
      "_________________________________________________________________\n",
      "conv2d_6 (Conv2D)            (None, 8, 8, 512)         1180160   \n",
      "_________________________________________________________________\n",
      "conv2d_7 (Conv2D)            (None, 8, 8, 512)         2359808   \n",
      "_________________________________________________________________\n",
      "max_pooling2d_3 (MaxPooling2 (None, 4, 4, 512)         0         \n",
      "_________________________________________________________________\n",
      "flatten (Flatten)            (None, 8192)              0         \n",
      "_________________________________________________________________\n",
      "dense (Dense)                (None, 512)               4194816   \n",
      "_________________________________________________________________\n",
      "dropout (Dropout)            (None, 512)               0         \n",
      "_________________________________________________________________\n",
      "dense_1 (Dense)              (None, 512)               262656    \n",
      "_________________________________________________________________\n",
      "dropout_1 (Dropout)          (None, 512)               0         \n",
      "_________________________________________________________________\n",
      "dense_2 (Dense)              (None, 1)                 513       \n",
      "_________________________________________________________________\n",
      "activation (Activation)      (None, 1)                 0         \n",
      "=================================================================\n",
      "Total params: 9,143,361\n",
      "Trainable params: 9,143,361\n",
      "Non-trainable params: 0\n",
      "_________________________________________________________________\n"
     ]
    }
   ],
   "source": [
    "model.summary()"
   ]
  },
  {
   "cell_type": "markdown",
   "id": "cda597c6",
   "metadata": {},
   "source": [
    "### Data Generation and train-val split in the ratio of 80:20"
   ]
  },
  {
   "cell_type": "code",
   "execution_count": 9,
   "id": "252612f8",
   "metadata": {},
   "outputs": [
    {
     "name": "stdout",
     "output_type": "stream",
     "text": [
      "Found 20000 images belonging to 2 classes.\n",
      "Found 5000 images belonging to 2 classes.\n"
     ]
    }
   ],
   "source": [
    "data_path = \"dogs-vs-cats/train_val_images/\"\n",
    "\n",
    "data_gen = ImageDataGenerator(rescale=1./255,  validation_split=0.2)\n",
    "\n",
    "train_data = data_gen.flow_from_directory(directory=data_path,target_size=(img_size,img_size), batch_size=bs, subset='training', seed=42, color_mode='rgb', class_mode='binary') \n",
    "\n",
    "val_data = data_gen.flow_from_directory(directory=data_path,target_size=(img_size,img_size), batch_size=bs, subset='validation', seed=42, color_mode='rgb', class_mode='binary') "
   ]
  },
  {
   "cell_type": "markdown",
   "id": "40020174",
   "metadata": {},
   "source": [
    "### Model Compile"
   ]
  },
  {
   "cell_type": "code",
   "execution_count": 10,
   "id": "0a078ff2",
   "metadata": {},
   "outputs": [],
   "source": [
    "opt = Adam(learning_rate=lr)\n",
    "\n",
    "model.compile(loss=loss_fn,optimizer=opt,metrics=['accuracy'])"
   ]
  },
  {
   "cell_type": "markdown",
   "id": "87b216ec",
   "metadata": {},
   "source": [
    "### Checkpoint directory"
   ]
  },
  {
   "cell_type": "code",
   "execution_count": 11,
   "id": "55e24ee6",
   "metadata": {},
   "outputs": [],
   "source": [
    "checkpoint_dir=\"custom_cnn_model/\"\n",
    "model_version=\"1.0\"\n",
    "\n",
    "if not os.path.exists(checkpoint_dir):\n",
    "    os.makedirs(checkpoint_dir)"
   ]
  },
  {
   "cell_type": "markdown",
   "id": "a4687d54",
   "metadata": {},
   "source": [
    "### Call backs"
   ]
  },
  {
   "cell_type": "code",
   "execution_count": 12,
   "id": "b4b1af22",
   "metadata": {},
   "outputs": [],
   "source": [
    "checkpoint = ModelCheckpoint(os.path.join(checkpoint_dir,'binary_model_v' + str(model_version) + '.h5'), \n",
    "                             monitor='val_loss', \n",
    "                             verbose=1, \n",
    "                             save_best_only=True, \n",
    "                             mode='min')\n",
    "csv_logger = CSVLogger(checkpoint_dir + '/' + 'log_model_v' + str(model_version) + '.csv')\n",
    "\n",
    "early_stop = EarlyStopping(\n",
    "        monitor='val_loss',\n",
    "        min_delta=0,\n",
    "        patience=10,\n",
    "        verbose=1,\n",
    "        mode='auto')"
   ]
  },
  {
   "cell_type": "markdown",
   "id": "4de75434",
   "metadata": {},
   "source": [
    "### Model Fit"
   ]
  },
  {
   "cell_type": "code",
   "execution_count": 14,
   "id": "7fcbe014",
   "metadata": {},
   "outputs": [
    {
     "name": "stdout",
     "output_type": "stream",
     "text": [
      "Epoch 1/50\n",
      "2500/2500 [==============================] - 125s 36ms/step - loss: 0.6784 - accuracy: 0.5546 - val_loss: 0.6220 - val_accuracy: 0.6596\n",
      "\n",
      "Epoch 00001: val_loss improved from inf to 0.62203, saving model to custom_cnn_model/binary_model_v1.0.h5\n",
      "Epoch 2/50\n",
      "2500/2500 [==============================] - 89s 36ms/step - loss: 0.6163 - accuracy: 0.6639 - val_loss: 0.5762 - val_accuracy: 0.6960\n",
      "\n",
      "Epoch 00002: val_loss improved from 0.62203 to 0.57620, saving model to custom_cnn_model/binary_model_v1.0.h5\n",
      "Epoch 3/50\n",
      "2500/2500 [==============================] - 89s 36ms/step - loss: 0.5712 - accuracy: 0.7012 - val_loss: 0.6169 - val_accuracy: 0.6532\n",
      "\n",
      "Epoch 00003: val_loss did not improve from 0.57620\n",
      "Epoch 4/50\n",
      "2500/2500 [==============================] - 90s 36ms/step - loss: 0.5280 - accuracy: 0.7382 - val_loss: 0.4980 - val_accuracy: 0.7590\n",
      "\n",
      "Epoch 00004: val_loss improved from 0.57620 to 0.49800, saving model to custom_cnn_model/binary_model_v1.0.h5\n",
      "Epoch 5/50\n",
      "2500/2500 [==============================] - 88s 35ms/step - loss: 0.4893 - accuracy: 0.7632 - val_loss: 0.4763 - val_accuracy: 0.7718\n",
      "\n",
      "Epoch 00005: val_loss improved from 0.49800 to 0.47632, saving model to custom_cnn_model/binary_model_v1.0.h5\n",
      "Epoch 6/50\n",
      "2500/2500 [==============================] - 87s 35ms/step - loss: 0.4583 - accuracy: 0.7861 - val_loss: 0.4530 - val_accuracy: 0.7856\n",
      "\n",
      "Epoch 00006: val_loss improved from 0.47632 to 0.45298, saving model to custom_cnn_model/binary_model_v1.0.h5\n",
      "Epoch 7/50\n",
      "2500/2500 [==============================] - 87s 35ms/step - loss: 0.4334 - accuracy: 0.8020 - val_loss: 0.4329 - val_accuracy: 0.8036\n",
      "\n",
      "Epoch 00007: val_loss improved from 0.45298 to 0.43292, saving model to custom_cnn_model/binary_model_v1.0.h5\n",
      "Epoch 8/50\n",
      "2500/2500 [==============================] - 86s 34ms/step - loss: 0.4109 - accuracy: 0.8140 - val_loss: 0.4078 - val_accuracy: 0.8140\n",
      "\n",
      "Epoch 00008: val_loss improved from 0.43292 to 0.40782, saving model to custom_cnn_model/binary_model_v1.0.h5\n",
      "Epoch 9/50\n",
      "2500/2500 [==============================] - 86s 34ms/step - loss: 0.3904 - accuracy: 0.8285 - val_loss: 0.3926 - val_accuracy: 0.8228\n",
      "\n",
      "Epoch 00009: val_loss improved from 0.40782 to 0.39256, saving model to custom_cnn_model/binary_model_v1.0.h5\n",
      "Epoch 10/50\n",
      "2500/2500 [==============================] - 85s 34ms/step - loss: 0.3670 - accuracy: 0.8394 - val_loss: 0.3809 - val_accuracy: 0.8278\n",
      "\n",
      "Epoch 00010: val_loss improved from 0.39256 to 0.38088, saving model to custom_cnn_model/binary_model_v1.0.h5\n",
      "Epoch 11/50\n",
      "2500/2500 [==============================] - 85s 34ms/step - loss: 0.3482 - accuracy: 0.8472 - val_loss: 0.3743 - val_accuracy: 0.8314\n",
      "\n",
      "Epoch 00011: val_loss improved from 0.38088 to 0.37433, saving model to custom_cnn_model/binary_model_v1.0.h5\n",
      "Epoch 12/50\n",
      "2500/2500 [==============================] - 85s 34ms/step - loss: 0.3267 - accuracy: 0.8604 - val_loss: 0.3693 - val_accuracy: 0.8388\n",
      "\n",
      "Epoch 00012: val_loss improved from 0.37433 to 0.36928, saving model to custom_cnn_model/binary_model_v1.0.h5\n",
      "Epoch 13/50\n",
      "2500/2500 [==============================] - 85s 34ms/step - loss: 0.3047 - accuracy: 0.8734 - val_loss: 0.3715 - val_accuracy: 0.8438\n",
      "\n",
      "Epoch 00013: val_loss did not improve from 0.36928\n",
      "Epoch 14/50\n",
      "2500/2500 [==============================] - 85s 34ms/step - loss: 0.2854 - accuracy: 0.8778 - val_loss: 0.3461 - val_accuracy: 0.8464\n",
      "\n",
      "Epoch 00014: val_loss improved from 0.36928 to 0.34608, saving model to custom_cnn_model/binary_model_v1.0.h5\n",
      "Epoch 15/50\n",
      "2500/2500 [==============================] - 85s 34ms/step - loss: 0.2652 - accuracy: 0.8910 - val_loss: 0.3315 - val_accuracy: 0.8574\n",
      "\n",
      "Epoch 00015: val_loss improved from 0.34608 to 0.33145, saving model to custom_cnn_model/binary_model_v1.0.h5\n",
      "Epoch 16/50\n",
      "2500/2500 [==============================] - 85s 34ms/step - loss: 0.2424 - accuracy: 0.9005 - val_loss: 0.3519 - val_accuracy: 0.8464\n",
      "\n",
      "Epoch 00016: val_loss did not improve from 0.33145\n",
      "Epoch 17/50\n",
      "2500/2500 [==============================] - 85s 34ms/step - loss: 0.2210 - accuracy: 0.9131 - val_loss: 0.3318 - val_accuracy: 0.8628\n",
      "\n",
      "Epoch 00017: val_loss did not improve from 0.33145\n",
      "Epoch 18/50\n",
      "2500/2500 [==============================] - 85s 34ms/step - loss: 0.1992 - accuracy: 0.9225 - val_loss: 0.3938 - val_accuracy: 0.8424\n",
      "\n",
      "Epoch 00018: val_loss did not improve from 0.33145\n",
      "Epoch 19/50\n",
      "2500/2500 [==============================] - 85s 34ms/step - loss: 0.1806 - accuracy: 0.9293 - val_loss: 0.3666 - val_accuracy: 0.8574\n",
      "\n",
      "Epoch 00019: val_loss did not improve from 0.33145\n",
      "Epoch 20/50\n",
      "2500/2500 [==============================] - 85s 34ms/step - loss: 0.1564 - accuracy: 0.9417 - val_loss: 0.3541 - val_accuracy: 0.8636\n",
      "\n",
      "Epoch 00020: val_loss did not improve from 0.33145\n",
      "Epoch 21/50\n",
      "2500/2500 [==============================] - 85s 34ms/step - loss: 0.1366 - accuracy: 0.9488 - val_loss: 0.3789 - val_accuracy: 0.8630\n",
      "\n",
      "Epoch 00021: val_loss did not improve from 0.33145\n",
      "Epoch 22/50\n",
      "2500/2500 [==============================] - 85s 34ms/step - loss: 0.1178 - accuracy: 0.9564 - val_loss: 0.4059 - val_accuracy: 0.8592\n",
      "\n",
      "Epoch 00022: val_loss did not improve from 0.33145\n",
      "Epoch 23/50\n",
      "2500/2500 [==============================] - 85s 34ms/step - loss: 0.0982 - accuracy: 0.9650 - val_loss: 0.4031 - val_accuracy: 0.8678\n",
      "\n",
      "Epoch 00023: val_loss did not improve from 0.33145\n",
      "Epoch 24/50\n",
      "2500/2500 [==============================] - 85s 34ms/step - loss: 0.0843 - accuracy: 0.9704 - val_loss: 0.4297 - val_accuracy: 0.8676\n",
      "\n",
      "Epoch 00024: val_loss did not improve from 0.33145\n",
      "Epoch 25/50\n",
      "2500/2500 [==============================] - 85s 34ms/step - loss: 0.0693 - accuracy: 0.9760 - val_loss: 0.4203 - val_accuracy: 0.8614\n",
      "\n",
      "Epoch 00025: val_loss did not improve from 0.33145\n",
      "Epoch 00025: early stopping\n"
     ]
    }
   ],
   "source": [
    "steps_train=train_data.n/ bs\n",
    "\n",
    "steps_val = val_data.n / bs\n",
    "\n",
    "\n",
    "\n",
    "history = model.fit(train_data, epochs=ep, steps_per_epoch=steps_train, validation_data=val_data, validation_steps=steps_val, callbacks= [checkpoint, csv_logger, early_stop])"
   ]
  },
  {
   "cell_type": "markdown",
   "id": "53806bcf",
   "metadata": {},
   "source": [
    "### Loss Plots"
   ]
  },
  {
   "cell_type": "code",
   "execution_count": 15,
   "id": "9efe4968",
   "metadata": {},
   "outputs": [
    {
     "data": {
      "text/plain": [
       "<matplotlib.legend.Legend at 0x7f00642b81d0>"
      ]
     },
     "execution_count": 15,
     "metadata": {},
     "output_type": "execute_result"
    },
    {
     "data": {
      "image/png": "[encoded data removed]",
      "text/plain": [
       "<Figure size 432x288 with 1 Axes>"
      ]
     },
     "metadata": {
      "needs_background": "light"
     },
     "output_type": "display_data"
    }
   ],
   "source": [
    "df_plot=pd.read_csv(os.path.join(checkpoint_dir, 'log_model_v' + str(model_version) + '.csv'))\n",
    "training_loss=df_plot['loss']\n",
    "validation_loss=df_plot['val_loss']\n",
    "training_acc=df_plot['accuracy']\n",
    "validation_acc=df_plot['val_accuracy']\n",
    "\n",
    "plt.plot(training_loss,color='r')\n",
    "plt.plot(validation_loss,color='g')\n",
    "plt.legend([\"training loss\", \"validation loss\"], loc =\"upper right\")"
   ]
  },
  {
   "cell_type": "markdown",
   "id": "515e3650",
   "metadata": {},
   "source": [
    "## Accuracy Plots"
   ]
  },
  {
   "cell_type": "code",
   "execution_count": 16,
   "id": "69e32526",
   "metadata": {},
   "outputs": [
    {
     "data": {
      "text/plain": [
       "<matplotlib.legend.Legend at 0x7f00643cbe80>"
      ]
     },
     "execution_count": 16,
     "metadata": {},
     "output_type": "execute_result"
    },
    {
     "data": {
      "image/png": "[encoded data removed]",
      "text/plain": [
       "<Figure size 432x288 with 1 Axes>"
      ]
     },
     "metadata": {
      "needs_background": "light"
     },
     "output_type": "display_data"
    }
   ],
   "source": [
    "plt.plot(training_acc,color='r')\n",
    "plt.plot(validation_acc,color='g')\n",
    "plt.legend([\"training acc\", \"validation acc\"], loc =\"lower right\")"
   ]
  },
  {
   "cell_type": "markdown",
   "id": "3c645bc2",
   "metadata": {},
   "source": [
    "### Evaluation on Validation set"
   ]
  },
  {
   "cell_type": "code",
   "execution_count": 17,
   "id": "a455c382",
   "metadata": {},
   "outputs": [
    {
     "name": "stdout",
     "output_type": "stream",
     "text": [
      "625/625 [==============================] - 8s 13ms/step - loss: 0.3315 - accuracy: 0.8574\n"
     ]
    }
   ],
   "source": [
    "model_path = os.path.join(checkpoint_dir, 'binary_model_v' + str(model_version) + '.h5')\n",
    "model = load_model(model_path)\n",
    "_,val_accuracy = model.evaluate(val_data, steps=steps_val)"
   ]
  },
  {
   "cell_type": "markdown",
   "id": "3db5096d",
   "metadata": {},
   "source": [
    "### Prediction on Test set and strore the prediction results in csv file"
   ]
  },
  {
   "cell_type": "code",
   "execution_count": 75,
   "id": "705bc5a3",
   "metadata": {},
   "outputs": [
    {
     "data": {
      "text/plain": [
       "43"
      ]
     },
     "execution_count": 75,
     "metadata": {},
     "output_type": "execute_result"
    }
   ],
   "source": [
    "test_set_dir=\"dogs-vs-cats/test1/\"\n",
    "out_csv = os.path.join(checkpoint_dir,\"test_set_pred_\" + str(model_version) + \".csv\")\n",
    "\n",
    "f=open(out_csv,'w')\n",
    "f.write(\"filepath,prediction_label,prediction_class\"+\"\\n\")"
   ]
  },
  {
   "cell_type": "code",
   "execution_count": 76,
   "id": "de8bf7f4",
   "metadata": {},
   "outputs": [],
   "source": [
    "\n",
    "for img in sorted(os.listdir(test_set_dir)):\n",
    "    \n",
    "    img_name = os.path.join(test_set_dir, img)\n",
    "    \n",
    "    img = load_img(img_name, target_size=(img_size, img_size))\n",
    "    \n",
    "    img = img_to_array(img)\n",
    "    \n",
    "    img = np.expand_dims(img, axis=0)\n",
    "    \n",
    "    pred = model.predict(img)\n",
    "    \n",
    "    if pred[0][0] > 0.5:\n",
    "        \n",
    "        result=1\n",
    "        pred_class='dog'\n",
    "        \n",
    "    else:\n",
    "        \n",
    "        result=0\n",
    "        pred_class='cat'\n",
    "    \n",
    "    #print(img_name,result,pred_class)\n",
    "    f.write(str(img_name) + \",\" + str(result) + \",\" + str(pred_class) + \"\\n\")\n",
    "\n",
    "f.close()"
   ]
  },
  {
   "cell_type": "markdown",
   "id": "2282e0a0",
   "metadata": {},
   "source": [
    "### Convert Keras model to ONNX"
   ]
  },
  {
   "cell_type": "code",
   "execution_count": 45,
   "id": "1187add6",
   "metadata": {},
   "outputs": [
    {
     "name": "stdout",
     "output_type": "stream",
     "text": [
      "Defaulting to user installation because normal site-packages is not writeable\n",
      "Requirement already satisfied: tf2onnx in /home/abhishek/.local/lib/python3.6/site-packages (1.13.0)\n",
      "Requirement already satisfied: flatbuffers<3.0,>=1.12 in /home/abhishek/.local/lib/python3.6/site-packages (from tf2onnx) (1.12)\n",
      "Requirement already satisfied: requests in /home/abhishek/.local/lib/python3.6/site-packages (from tf2onnx) (2.26.0)\n",
      "Requirement already satisfied: numpy>=1.14.1 in /usr/local/lib/python3.6/dist-packages (from tf2onnx) (1.19.5)\n",
      "Requirement already satisfied: onnx>=1.4.1 in /home/abhishek/.local/lib/python3.6/site-packages (from tf2onnx) (1.11.0)\n",
      "Requirement already satisfied: six in /home/abhishek/.local/lib/python3.6/site-packages (from tf2onnx) (1.15.0)\n",
      "Requirement already satisfied: typing-extensions>=3.6.2.1 in /home/abhishek/.local/lib/python3.6/site-packages (from onnx>=1.4.1->tf2onnx) (3.7.4.3)\n",
      "Requirement already satisfied: protobuf>=3.12.2 in /home/abhishek/.local/lib/python3.6/site-packages (from onnx>=1.4.1->tf2onnx) (3.17.3)\n",
      "Requirement already satisfied: urllib3<1.27,>=1.21.1 in /home/abhishek/.local/lib/python3.6/site-packages (from requests->tf2onnx) (1.26.6)\n",
      "Requirement already satisfied: idna<4,>=2.5 in /usr/lib/python3/dist-packages (from requests->tf2onnx) (2.6)\n",
      "Requirement already satisfied: charset-normalizer~=2.0.0 in /home/abhishek/.local/lib/python3.6/site-packages (from requests->tf2onnx) (2.0.4)\n",
      "Requirement already satisfied: certifi>=2017.4.17 in /usr/lib/python3/dist-packages (from requests->tf2onnx) (2018.1.18)\n",
      "\u001b[33mWARNING: You are using pip version 21.2.3; however, version 21.3.1 is available.\n",
      "You should consider upgrading via the '/usr/bin/python3 -m pip install --upgrade pip' command.\u001b[0m\n"
     ]
    }
   ],
   "source": [
    "!pip install tf2onnx"
   ]
  },
  {
   "cell_type": "code",
   "execution_count": 47,
   "id": "5c24fc9b",
   "metadata": {},
   "outputs": [],
   "source": [
    "import tensorflow as tf\n",
    "import tf2onnx\n",
    "import onnx"
   ]
  },
  {
   "cell_type": "code",
   "execution_count": 49,
   "id": "832a990b",
   "metadata": {},
   "outputs": [],
   "source": [
    "keras_model_path=os.path.join(checkpoint_dir,'binary_model_v' + str(model_version) + '.h5')"
   ]
  },
  {
   "cell_type": "code",
   "execution_count": 50,
   "id": "6e7cfb4f",
   "metadata": {},
   "outputs": [
    {
     "data": {
      "text/plain": [
       "'custom_cnn_model/binary_model_v1.0.h5'"
      ]
     },
     "execution_count": 50,
     "metadata": {},
     "output_type": "execute_result"
    }
   ],
   "source": [
    "keras_model_path"
   ]
  },
  {
   "cell_type": "code",
   "execution_count": 51,
   "id": "9d12f863",
   "metadata": {},
   "outputs": [],
   "source": [
    "onnx_model_path=os.path.join(checkpoint_dir,'binary_model_v' + str(model_version) + '.onnx')"
   ]
  },
  {
   "cell_type": "code",
   "execution_count": 52,
   "id": "6181adcc",
   "metadata": {},
   "outputs": [
    {
     "data": {
      "text/plain": [
       "'custom_cnn_model/binary_model_v1.0.onnx'"
      ]
     },
     "execution_count": 52,
     "metadata": {},
     "output_type": "execute_result"
    }
   ],
   "source": [
    "onnx_model_path"
   ]
  },
  {
   "cell_type": "code",
   "execution_count": 54,
   "id": "45452dfe",
   "metadata": {},
   "outputs": [
    {
     "name": "stdout",
     "output_type": "stream",
     "text": [
      "Model: \"sequential\"\n",
      "_________________________________________________________________\n",
      "Layer (type)                 Output Shape              Param #   \n",
      "=================================================================\n",
      "conv2d (Conv2D)              (None, 64, 64, 64)        1792      \n",
      "_________________________________________________________________\n",
      "conv2d_1 (Conv2D)            (None, 64, 64, 64)        36928     \n",
      "_________________________________________________________________\n",
      "max_pooling2d (MaxPooling2D) (None, 32, 32, 64)        0         \n",
      "_________________________________________________________________\n",
      "conv2d_2 (Conv2D)            (None, 32, 32, 128)       73856     \n",
      "_________________________________________________________________\n",
      "conv2d_3 (Conv2D)            (None, 32, 32, 128)       147584    \n",
      "_________________________________________________________________\n",
      "max_pooling2d_1 (MaxPooling2 (None, 16, 16, 128)       0         \n",
      "_________________________________________________________________\n",
      "conv2d_4 (Conv2D)            (None, 16, 16, 256)       295168    \n",
      "_________________________________________________________________\n",
      "conv2d_5 (Conv2D)            (None, 16, 16, 256)       590080    \n",
      "_________________________________________________________________\n",
      "max_pooling2d_2 (MaxPooling2 (None, 8, 8, 256)         0         \n",
      "_________________________________________________________________\n",
      "conv2d_6 (Conv2D)            (None, 8, 8, 512)         1180160   \n",
      "_________________________________________________________________\n",
      "conv2d_7 (Conv2D)            (None, 8, 8, 512)         2359808   \n",
      "_________________________________________________________________\n",
      "max_pooling2d_3 (MaxPooling2 (None, 4, 4, 512)         0         \n",
      "_________________________________________________________________\n",
      "flatten (Flatten)            (None, 8192)              0         \n",
      "_________________________________________________________________\n",
      "dense (Dense)                (None, 512)               4194816   \n",
      "_________________________________________________________________\n",
      "dropout (Dropout)            (None, 512)               0         \n",
      "_________________________________________________________________\n",
      "dense_1 (Dense)              (None, 512)               262656    \n",
      "_________________________________________________________________\n",
      "dropout_1 (Dropout)          (None, 512)               0         \n",
      "_________________________________________________________________\n",
      "dense_2 (Dense)              (None, 1)                 513       \n",
      "_________________________________________________________________\n",
      "activation (Activation)      (None, 1)                 0         \n",
      "=================================================================\n",
      "Total params: 9,143,361\n",
      "Trainable params: 9,143,361\n",
      "Non-trainable params: 0\n",
      "_________________________________________________________________\n"
     ]
    }
   ],
   "source": [
    "keras_model = load_model(keras_model_path)\n",
    "keras_model.summary()"
   ]
  },
  {
   "cell_type": "code",
   "execution_count": 59,
   "id": "ae2fd0e4",
   "metadata": {},
   "outputs": [],
   "source": [
    "spec = (tf.TensorSpec((None, 64, 64, 3), tf.float32, name=\"input\"),)\n",
    "\n",
    "onnx_model, _ = tf2onnx.convert.from_keras(keras_model, input_signature=spec, opset=13, output_path=onnx_model_path)\n",
    "\n",
    "onnx.save(onnx_model, onnx_model_path)"
   ]
  },
  {
   "cell_type": "markdown",
   "id": "89cf5249",
   "metadata": {},
   "source": [
    "### Inference using Onnx model on test set"
   ]
  },
  {
   "cell_type": "code",
   "execution_count": 58,
   "id": "78ad0047",
   "metadata": {},
   "outputs": [
    {
     "name": "stdout",
     "output_type": "stream",
     "text": [
      "Defaulting to user installation because normal site-packages is not writeable\n",
      "Requirement already satisfied: onnxruntime-gpu in /home/abhishek/.local/lib/python3.6/site-packages (1.10.0)\n",
      "Requirement already satisfied: protobuf in /home/abhishek/.local/lib/python3.6/site-packages (from onnxruntime-gpu) (3.17.3)\n",
      "Requirement already satisfied: numpy>=1.16.6 in /usr/local/lib/python3.6/dist-packages (from onnxruntime-gpu) (1.19.5)\n",
      "Requirement already satisfied: flatbuffers in /home/abhishek/.local/lib/python3.6/site-packages (from onnxruntime-gpu) (1.12)\n",
      "Requirement already satisfied: six>=1.9 in /home/abhishek/.local/lib/python3.6/site-packages (from protobuf->onnxruntime-gpu) (1.15.0)\n",
      "\u001b[33mWARNING: You are using pip version 21.2.3; however, version 21.3.1 is available.\n",
      "You should consider upgrading via the '/usr/bin/python3 -m pip install --upgrade pip' command.\u001b[0m\n"
     ]
    }
   ],
   "source": [
    "! pip install onnxruntime-gpu"
   ]
  },
  {
   "cell_type": "code",
   "execution_count": 64,
   "id": "5057613a",
   "metadata": {},
   "outputs": [
    {
     "name": "stdout",
     "output_type": "stream",
     "text": [
      "input_name :  input\n",
      "output_name :  input\n"
     ]
    }
   ],
   "source": [
    "import onnxruntime as ort\n",
    "\n",
    "sess = ort.InferenceSession(onnx_model_path, providers=[\"CUDAExecutionProvider\"])\n",
    "\n",
    "input_name = sess.get_inputs()[0].name\n",
    "output_name = sess.get_outputs()[0].name\n",
    "\n",
    "print(\"input_name : \",input_name)\n",
    "print(\"output_name : \",input_name)"
   ]
  },
  {
   "cell_type": "code",
   "execution_count": 77,
   "id": "8032441b",
   "metadata": {},
   "outputs": [
    {
     "data": {
      "text/plain": [
       "43"
      ]
     },
     "execution_count": 77,
     "metadata": {},
     "output_type": "execute_result"
    }
   ],
   "source": [
    "test_set_dir=\"dogs-vs-cats/test1/\"\n",
    "out_csv = os.path.join(checkpoint_dir,\"test_set_pred_onnx\" + str(model_version) + \".csv\")\n",
    "\n",
    "f=open(out_csv,'w')\n",
    "f.write(\"filepath,prediction_label,prediction_class\"+\"\\n\")"
   ]
  },
  {
   "cell_type": "code",
   "execution_count": 78,
   "id": "3959f1be",
   "metadata": {},
   "outputs": [],
   "source": [
    "for img in sorted(os.listdir(test_set_dir)):\n",
    "    \n",
    "    img_name = os.path.join(test_set_dir, img)\n",
    "    \n",
    "    img = load_img(img_name, target_size=(img_size, img_size))\n",
    "    \n",
    "    img = img_to_array(img)\n",
    "    \n",
    "    img = np.expand_dims(img, axis=0)\n",
    "    \n",
    "    \n",
    "    onnx_pred = sess.run([output_name], {input_name: img})\n",
    "    \n",
    "    if onnx_pred[0][0] > 0.5:\n",
    "        \n",
    "        result=1\n",
    "        pred_class='dog'\n",
    "        \n",
    "    else:\n",
    "        \n",
    "        result=0\n",
    "        pred_class='cat'\n",
    "    \n",
    "    #print(img_name,result,pred_class)\n",
    "    f.write(str(img_name) + \",\" + str(result) + \",\" + str(pred_class) + \"\\n\")\n",
    "\n",
    "f.close()"
   ]
  },
  {
   "cell_type": "markdown",
   "id": "23787330",
   "metadata": {},
   "source": [
    "### References:\n",
    "\n",
    "* https://onnxruntime.ai/docs/tutorials/tf-get-started.html\n",
    "\n",
    "* https://github.com/onnx/tensorflow-onnx/blob/82812543c22e1318ca1ffa4e5431830c17d16d29/tutorials/keras-resnet50.ipynb\n",
    "\n",
    "* https://www.youtube.com/watch?v=lRBsmnBE9ZA\n",
    "\n",
    "* https://github.com/onnx/tensorflow-onnx/blob/main/tutorials/efficientnet-edge.ipynb"
   ]
  },
  {
   "cell_type": "code",
   "execution_count": null,
   "id": "fec336ab",
   "metadata": {},
   "outputs": [],
   "source": []
  }
 ],
 "metadata": {
  "kernelspec": {
   "display_name": "Python 3",
   "language": "python",
   "name": "python3"
  },
  "language_info": {
   "codemirror_mode": {
    "name": "ipython",
    "version": 3
   },
   "file_extension": ".py",
   "mimetype": "text/x-python",
   "name": "python",
   "nbconvert_exporter": "python",
   "pygments_lexer": "ipython3",
   "version": "3.6.9"
  }
 },
 "nbformat": 4,
 "nbformat_minor": 5
}
