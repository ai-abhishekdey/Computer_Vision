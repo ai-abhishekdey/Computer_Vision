{
 "cells": [
  {
   "cell_type": "markdown",
   "id": "51a0d411",
   "metadata": {},
   "source": [
    "## Basic Operations on Black and White image\n",
    "\n",
    "\n",
    "**Author: Abhishek Dey**\n",
    "\n",
    "**Last Modified: July 2, 2024**"
   ]
  },
  {
   "cell_type": "markdown",
   "id": "ea3615c1",
   "metadata": {},
   "source": [
    "### Import opencv, numpy and matplotlib"
   ]
  },
  {
   "cell_type": "code",
   "execution_count": 1,
   "id": "1c68de21",
   "metadata": {},
   "outputs": [],
   "source": [
    "import cv2\n",
    "import numpy as np\n",
    "from matplotlib import pyplot as plt"
   ]
  },
  {
   "cell_type": "markdown",
   "id": "2c740082",
   "metadata": {},
   "source": [
    "### Read black and white image"
   ]
  },
  {
   "cell_type": "code",
   "execution_count": 2,
   "id": "7b57f31d",
   "metadata": {},
   "outputs": [],
   "source": [
    "img=cv2.imread('black_white_img.png', cv2.IMREAD_GRAYSCALE)"
   ]
  },
  {
   "cell_type": "code",
   "execution_count": 3,
   "id": "f77e5def",
   "metadata": {},
   "outputs": [
    {
     "data": {
      "text/plain": [
       "<matplotlib.image.AxesImage at 0x7c51c44bc640>"
      ]
     },
     "execution_count": 3,
     "metadata": {},
     "output_type": "execute_result"
    },
    {
     "data": {
      "image/png": "[encoded data removed]",
      "text/plain": [
       "<Figure size 640x480 with 1 Axes>"
      ]
     },
     "metadata": {},
     "output_type": "display_data"
    }
   ],
   "source": [
    "plt.imshow(img,cmap='gray')"
   ]
  },
  {
   "cell_type": "markdown",
   "id": "48f9280a",
   "metadata": {},
   "source": [
    "### Shape of the image"
   ]
  },
  {
   "cell_type": "code",
   "execution_count": 4,
   "id": "94c36985",
   "metadata": {},
   "outputs": [
    {
     "data": {
      "text/plain": [
       "(100, 100)"
      ]
     },
     "execution_count": 4,
     "metadata": {},
     "output_type": "execute_result"
    }
   ],
   "source": [
    "img.shape"
   ]
  },
  {
   "cell_type": "markdown",
   "id": "261bc803",
   "metadata": {},
   "source": [
    "### Min and Max pixel values of the image"
   ]
  },
  {
   "cell_type": "code",
   "execution_count": 5,
   "id": "f5d736b4",
   "metadata": {},
   "outputs": [
    {
     "name": "stdout",
     "output_type": "stream",
     "text": [
      "Min Pixel value =  0\n",
      "Max Pixel value =  255\n"
     ]
    }
   ],
   "source": [
    "print(\"Min Pixel value = \", np.min(img))\n",
    "print(\"Max Pixel value = \", np.max(img))"
   ]
  },
  {
   "cell_type": "markdown",
   "id": "ccdc1533",
   "metadata": {},
   "source": [
    "### Pixel values of the image"
   ]
  },
  {
   "cell_type": "code",
   "execution_count": 6,
   "id": "5964a824",
   "metadata": {},
   "outputs": [
    {
     "data": {
      "text/plain": [
       "array([[  0,   0,   0, ..., 255, 255, 255],\n",
       "       [  0,   0,   0, ..., 255, 255, 255],\n",
       "       [  0,   0,   0, ..., 255, 255, 255],\n",
       "       ...,\n",
       "       [255, 255, 255, ...,   0,   0,   0],\n",
       "       [255, 255, 255, ...,   0,   0,   0],\n",
       "       [255, 255, 255, ...,   0,   0,   0]], dtype=uint8)"
      ]
     },
     "execution_count": 6,
     "metadata": {},
     "output_type": "execute_result"
    }
   ],
   "source": [
    "img"
   ]
  },
  {
   "cell_type": "markdown",
   "id": "d0404fa2",
   "metadata": {},
   "source": [
    "### Pixel values of Black co-ordinates"
   ]
  },
  {
   "cell_type": "code",
   "execution_count": 7,
   "id": "58cc2fd2",
   "metadata": {},
   "outputs": [
    {
     "name": "stdout",
     "output_type": "stream",
     "text": [
      "Black pixel values : 0 0\n"
     ]
    }
   ],
   "source": [
    "print(\"Black pixel values :\", img[20,20], img[80,80])"
   ]
  },
  {
   "cell_type": "markdown",
   "id": "5bb1d174",
   "metadata": {},
   "source": [
    "### Pixel values of White co-ordinates"
   ]
  },
  {
   "cell_type": "code",
   "execution_count": 8,
   "id": "97f0bb31",
   "metadata": {},
   "outputs": [
    {
     "name": "stdout",
     "output_type": "stream",
     "text": [
      "White pixel values : 255 255\n"
     ]
    }
   ],
   "source": [
    "print(\"White pixel values :\", img[80,20], img[20,80])"
   ]
  },
  {
   "cell_type": "markdown",
   "id": "33ca350e",
   "metadata": {},
   "source": [
    "## Image Normalisation"
   ]
  },
  {
   "cell_type": "code",
   "execution_count": 9,
   "id": "08b1a987",
   "metadata": {},
   "outputs": [],
   "source": [
    "norm_img = img/255"
   ]
  },
  {
   "cell_type": "code",
   "execution_count": 10,
   "id": "5c43dba0",
   "metadata": {},
   "outputs": [
    {
     "data": {
      "text/plain": [
       "array([[0., 0., 0., ..., 1., 1., 1.],\n",
       "       [0., 0., 0., ..., 1., 1., 1.],\n",
       "       [0., 0., 0., ..., 1., 1., 1.],\n",
       "       ...,\n",
       "       [1., 1., 1., ..., 0., 0., 0.],\n",
       "       [1., 1., 1., ..., 0., 0., 0.],\n",
       "       [1., 1., 1., ..., 0., 0., 0.]])"
      ]
     },
     "execution_count": 10,
     "metadata": {},
     "output_type": "execute_result"
    }
   ],
   "source": [
    "norm_img"
   ]
  },
  {
   "cell_type": "markdown",
   "id": "fa842543",
   "metadata": {},
   "source": [
    "### Min and Max pixel values of the normalised image"
   ]
  },
  {
   "cell_type": "code",
   "execution_count": 11,
   "id": "fafcdd72",
   "metadata": {},
   "outputs": [
    {
     "name": "stdout",
     "output_type": "stream",
     "text": [
      "Min Pixel value of normalised image =  0.0\n",
      "Max Pixel value of normalised image =  1.0\n"
     ]
    }
   ],
   "source": [
    "print(\"Min Pixel value of normalised image = \", np.min(norm_img))\n",
    "print(\"Max Pixel value of normalised image = \", np.max(norm_img))"
   ]
  }
 ],
 "metadata": {
  "kernelspec": {
   "display_name": "Python 3 (ipykernel)",
   "language": "python",
   "name": "python3"
  },
  "language_info": {
   "codemirror_mode": {
    "name": "ipython",
    "version": 3
   },
   "file_extension": ".py",
   "mimetype": "text/x-python",
   "name": "python",
   "nbconvert_exporter": "python",
   "pygments_lexer": "ipython3",
   "version": "3.10.12"
  }
 },
 "nbformat": 4,
 "nbformat_minor": 5
}
