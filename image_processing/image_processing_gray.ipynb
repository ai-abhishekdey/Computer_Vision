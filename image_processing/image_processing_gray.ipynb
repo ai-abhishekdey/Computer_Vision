{
 "cells": [
  {
   "cell_type": "markdown",
   "id": "a9ef65c5",
   "metadata": {},
   "source": [
    "## Basic Operations on Gray Scale Image\n",
    "\n",
    "\n",
    "**Author: Abhishek Dey**\n",
    "\n",
    "**Last Modified: July 2, 2024**"
   ]
  },
  {
   "cell_type": "markdown",
   "id": "46445980",
   "metadata": {},
   "source": [
    "### Import opencv, numpy and matplotlib"
   ]
  },
  {
   "cell_type": "code",
   "execution_count": 2,
   "id": "a3ed13e8",
   "metadata": {},
   "outputs": [],
   "source": [
    "import cv2\n",
    "import numpy as np\n",
    "from matplotlib import pyplot as plt"
   ]
  },
  {
   "cell_type": "markdown",
   "id": "4507bbe4",
   "metadata": {},
   "source": [
    "### Read Gray scale image"
   ]
  },
  {
   "cell_type": "code",
   "execution_count": 3,
   "id": "5a962514",
   "metadata": {},
   "outputs": [],
   "source": [
    "img=cv2.imread('gray_scale_img.png',cv2.IMREAD_GRAYSCALE)"
   ]
  },
  {
   "cell_type": "code",
   "execution_count": 5,
   "id": "4e2fadda",
   "metadata": {},
   "outputs": [
    {
     "data": {
      "text/plain": [
       "<matplotlib.image.AxesImage at 0x7ee48f65e410>"
      ]
     },
     "execution_count": 5,
     "metadata": {},
     "output_type": "execute_result"
    },
    {
     "data": {
      "image/png": "[encoded data removed]",
      "text/plain": [
       "<Figure size 640x480 with 1 Axes>"
      ]
     },
     "metadata": {},
     "output_type": "display_data"
    }
   ],
   "source": [
    "plt.imshow(img,cmap='gray')"
   ]
  },
  {
   "cell_type": "markdown",
   "id": "91601e36",
   "metadata": {},
   "source": [
    "### Shape of the image"
   ]
  },
  {
   "cell_type": "code",
   "execution_count": 6,
   "id": "d9444061",
   "metadata": {},
   "outputs": [
    {
     "data": {
      "text/plain": [
       "(100, 100)"
      ]
     },
     "execution_count": 6,
     "metadata": {},
     "output_type": "execute_result"
    }
   ],
   "source": [
    "img.shape"
   ]
  },
  {
   "cell_type": "markdown",
   "id": "6a835b36",
   "metadata": {},
   "source": [
    "### Min and Max pixel values of the image"
   ]
  },
  {
   "cell_type": "code",
   "execution_count": 7,
   "id": "d86c504c",
   "metadata": {},
   "outputs": [
    {
     "name": "stdout",
     "output_type": "stream",
     "text": [
      "Min pixel value of the image : 0\n",
      "Max pixel value of the image : 255\n"
     ]
    }
   ],
   "source": [
    "print(\"Min pixel value of the image :\", np.min(img))\n",
    "print(\"Max pixel value of the image :\", np.max(img))"
   ]
  },
  {
   "cell_type": "code",
   "execution_count": 8,
   "id": "a1b212c4",
   "metadata": {},
   "outputs": [
    {
     "data": {
      "text/plain": [
       "array([[ 76,  76,  76, ...,   0,   0,   0],\n",
       "       [ 76,  76,  76, ...,   0,   0,   0],\n",
       "       [ 76,  76,  76, ...,   0,   0,   0],\n",
       "       ...,\n",
       "       [226, 226, 226, ..., 255, 255, 255],\n",
       "       [226, 226, 226, ..., 255, 255, 255],\n",
       "       [226, 226, 226, ..., 255, 255, 255]], dtype=uint8)"
      ]
     },
     "execution_count": 8,
     "metadata": {},
     "output_type": "execute_result"
    }
   ],
   "source": [
    "img"
   ]
  },
  {
   "cell_type": "markdown",
   "id": "22da0cdf",
   "metadata": {},
   "source": [
    "### Pixel values of different gray shades - First row, Img[y,x]"
   ]
  },
  {
   "cell_type": "code",
   "execution_count": 10,
   "id": "87ebd504",
   "metadata": {},
   "outputs": [
    {
     "name": "stdout",
     "output_type": "stream",
     "text": [
      "76\n",
      "150\n",
      "29\n",
      "0\n"
     ]
    }
   ],
   "source": [
    "print(img[20,20])\n",
    "print(img[20,40])\n",
    "print(img[20,60])\n",
    "print(img[20,80])"
   ]
  },
  {
   "cell_type": "markdown",
   "id": "571b46ef",
   "metadata": {},
   "source": [
    "### Pixel values of different gray shades - second row, Img[y,x]"
   ]
  },
  {
   "cell_type": "code",
   "execution_count": 11,
   "id": "bbd259fc",
   "metadata": {},
   "outputs": [
    {
     "name": "stdout",
     "output_type": "stream",
     "text": [
      "226\n",
      "179\n",
      "105\n",
      "255\n"
     ]
    }
   ],
   "source": [
    "print(img[80,20])\n",
    "print(img[80,40])\n",
    "print(img[80,60])\n",
    "print(img[80,80])"
   ]
  },
  {
   "cell_type": "markdown",
   "id": "2d316c50",
   "metadata": {},
   "source": [
    "## Image Normalisation"
   ]
  },
  {
   "cell_type": "code",
   "execution_count": 13,
   "id": "fd1ad808",
   "metadata": {},
   "outputs": [],
   "source": [
    "norm_img = img/255"
   ]
  },
  {
   "cell_type": "code",
   "execution_count": 14,
   "id": "b8fa846c",
   "metadata": {},
   "outputs": [
    {
     "data": {
      "text/plain": [
       "array([[0.29803922, 0.29803922, 0.29803922, ..., 0.        , 0.        ,\n",
       "        0.        ],\n",
       "       [0.29803922, 0.29803922, 0.29803922, ..., 0.        , 0.        ,\n",
       "        0.        ],\n",
       "       [0.29803922, 0.29803922, 0.29803922, ..., 0.        , 0.        ,\n",
       "        0.        ],\n",
       "       ...,\n",
       "       [0.88627451, 0.88627451, 0.88627451, ..., 1.        , 1.        ,\n",
       "        1.        ],\n",
       "       [0.88627451, 0.88627451, 0.88627451, ..., 1.        , 1.        ,\n",
       "        1.        ],\n",
       "       [0.88627451, 0.88627451, 0.88627451, ..., 1.        , 1.        ,\n",
       "        1.        ]])"
      ]
     },
     "execution_count": 14,
     "metadata": {},
     "output_type": "execute_result"
    }
   ],
   "source": [
    "norm_img"
   ]
  },
  {
   "cell_type": "markdown",
   "id": "a7a10c4b",
   "metadata": {},
   "source": [
    "### Min and Max pixel values of the normalised image"
   ]
  },
  {
   "cell_type": "code",
   "execution_count": 15,
   "id": "b7e45147",
   "metadata": {},
   "outputs": [
    {
     "name": "stdout",
     "output_type": "stream",
     "text": [
      "Min Pixel value of normalised image =  0.0\n",
      "Max Pixel value of normalised image =  1.0\n"
     ]
    }
   ],
   "source": [
    "print(\"Min Pixel value of normalised image = \", np.min(norm_img))\n",
    "print(\"Max Pixel value of normalised image = \", np.max(norm_img))"
   ]
  },
  {
   "cell_type": "markdown",
   "id": "01d085a4",
   "metadata": {},
   "source": [
    "### Normalised Pixel values of different gray shades - First row, Img[y,x]"
   ]
  },
  {
   "cell_type": "code",
   "execution_count": 17,
   "id": "09272303",
   "metadata": {},
   "outputs": [
    {
     "name": "stdout",
     "output_type": "stream",
     "text": [
      "0.2980392156862745\n",
      "0.5882352941176471\n",
      "0.11372549019607843\n",
      "0.0\n"
     ]
    }
   ],
   "source": [
    "print(norm_img[20,20])\n",
    "print(norm_img[20,40])\n",
    "print(norm_img[20,60])\n",
    "print(norm_img[20,80])"
   ]
  },
  {
   "cell_type": "markdown",
   "id": "16c1c66b",
   "metadata": {},
   "source": [
    "### Normalised Pixel values of different gray shades - Second row, Img[y,x]"
   ]
  },
  {
   "cell_type": "code",
   "execution_count": 18,
   "id": "a4b126e6",
   "metadata": {},
   "outputs": [
    {
     "name": "stdout",
     "output_type": "stream",
     "text": [
      "0.8862745098039215\n",
      "0.7019607843137254\n",
      "0.4117647058823529\n",
      "1.0\n"
     ]
    }
   ],
   "source": [
    "print(norm_img[80,20])\n",
    "print(norm_img[80,40])\n",
    "print(norm_img[80,60])\n",
    "print(norm_img[80,80])"
   ]
  },
  {
   "cell_type": "code",
   "execution_count": null,
   "id": "546167d5",
   "metadata": {},
   "outputs": [],
   "source": []
  }
 ],
 "metadata": {
  "kernelspec": {
   "display_name": "Python 3 (ipykernel)",
   "language": "python",
   "name": "python3"
  },
  "language_info": {
   "codemirror_mode": {
    "name": "ipython",
    "version": 3
   },
   "file_extension": ".py",
   "mimetype": "text/x-python",
   "name": "python",
   "nbconvert_exporter": "python",
   "pygments_lexer": "ipython3",
   "version": "3.10.12"
  }
 },
 "nbformat": 4,
 "nbformat_minor": 5
}
